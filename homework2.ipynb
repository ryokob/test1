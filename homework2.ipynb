{
<<<<<<< HEAD
 "cells": [
  {
   "cell_type": "code",
   "execution_count": null,
   "metadata": {},
   "outputs": [],
   "source": [
    "#homework2\n",
    "otameshidesuyo!"
   ]
  }
 ],
 "metadata": {
  "language_info": {
   "name": "python"
=======
  "cells": [
    {
      "cell_type": "markdown",
      "metadata": {
        "id": "view-in-github",
        "colab_type": "text"
      },
      "source": [
        "<a href=\"https://colab.research.google.com/github/ryokob/test1/blob/main/homework2.ipynb\" target=\"_parent\"><img src=\"https://colab.research.google.com/assets/colab-badge.svg\" alt=\"Open In Colab\"/></a>"
      ]
    },
    {
      "cell_type": "code",
      "execution_count": null,
      "metadata": {
        "id": "B443MwnvY09I"
      },
      "outputs": [],
      "source": [
        "#homework2"
      ]
    }
  ],
  "metadata": {
    "language_info": {
      "name": "python"
    },
    "orig_nbformat": 4,
    "colab": {
      "provenance": [],
      "include_colab_link": true
    }
>>>>>>> e37f48ed6fb9b7160ff36eee0655af3a5e79e276
  },
  "nbformat": 4,
  "nbformat_minor": 0
}