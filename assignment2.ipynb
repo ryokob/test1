{
  "nbformat": 4,
  "nbformat_minor": 0,
  "metadata": {
    "colab": {
      "provenance": [],
      "authorship_tag": "ABX9TyMDMRmexkNjVISSlVtOgBRp",
      "include_colab_link": true
    },
    "kernelspec": {
      "name": "python3",
      "display_name": "Python 3"
    },
    "language_info": {
      "name": "python"
    }
  },
  "cells": [
    {
      "cell_type": "markdown",
      "metadata": {
        "id": "view-in-github",
        "colab_type": "text"
      },
      "source": [
        "<a href=\"https://colab.research.google.com/github/ryokob/test1/blob/main/assignment2.ipynb\" target=\"_parent\"><img src=\"https://colab.research.google.com/assets/colab-badge.svg\" alt=\"Open In Colab\"/></a>"
      ]
    },
    {
      "cell_type": "code",
      "execution_count": 5,
      "metadata": {
        "colab": {
          "base_uri": "https://localhost:8080/"
        },
        "id": "rJsNheyG8US9",
        "outputId": "d2a4eade-b536-4621-cdb1-82f212cd57ef"
      },
      "outputs": [
        {
          "output_type": "stream",
          "name": "stdout",
          "text": [
            "                    g         a  Growth Rate  Capital Share\n",
            "countrycode                                                \n",
            "CAN          0.887700  0.346190     0.887700       0.346190\n",
            "DEU          0.661055  0.370730     0.661055       0.370730\n",
            "FRA          0.829236  0.381194     0.829236       0.381194\n",
            "GBR          1.015544  0.412993     1.015544       0.412993\n",
            "ITA         -0.037181  0.484835    -0.037181       0.484835\n",
            "JPN          0.710956  0.430601     0.710956       0.430601\n",
            "USA          1.536985  0.393260     1.536985       0.393260\n"
          ]
        }
      ],
      "source": [
        "# keio quant-macro assignment2\n",
        "import pandas as pd\n",
        "import numpy as np\n",
        "\n",
        "# Load data\n",
        "pwt1001 = pd.read_stata('https://dataverse.nl/api/access/datafile/354098')\n",
        "\n",
        "# Filter and select relevant columns\n",
        "data = pwt1001.loc[pwt1001['country'].isin([\"France\", \"Germany\", \"Canada\", \"Italy\", \"Japan\", \"United Kingdom\", \"United States\"])][['year', 'countrycode', 'rgdpna', 'rkna', 'emp', 'labsh']]\n",
        "data = data.loc[(data['year'] >= 1995) & (data['year'] <= 2019)].dropna()\n",
        "\n",
        "# Calculate additional columns\n",
        "data['y_pc'] = np.log(data['rgdpna'] / data['emp'])  # GDP per worker\n",
        "data['k_pc'] = np.log(data['rkna'] / data['emp'])  # Capital per worker\n",
        "data['a'] = 1 - data['labsh']  # Capital share\n",
        "\n",
        "# Order by year\n",
        "data = data.sort_values('year')\n",
        "\n",
        "# Group by isocode\n",
        "grouped_data = data.groupby('countrycode')\n",
        "\n",
        "# Calculate growth rates and Solow residual\n",
        "data['g'] = (grouped_data['y_pc'].diff() * 100)  # Growth rate of GDP per capita\n",
        "\n",
        "# Remove missing values\n",
        "data = data.dropna()\n",
        "\n",
        "# Calculate summary statistics\n",
        "summary = data.groupby('countrycode').agg({'g': 'mean',\n",
        "                                       'a': \"mean\"})\n",
        "\n",
        "# Calculate additional summary statistics\n",
        "summary['Growth Rate'] = summary['g']\n",
        "summary['Capital Share'] = summary['a']\n",
        "\n",
        "# Print output\n",
        "print(summary)"
      ]
    }
  ]
}